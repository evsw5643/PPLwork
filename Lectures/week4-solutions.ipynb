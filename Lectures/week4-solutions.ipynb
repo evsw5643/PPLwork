{
 "cells": [
  {
   "cell_type": "markdown",
   "metadata": {
    "nbgrader": {
     "grade": false,
     "grade_id": "cell-e4ec8e4f42d06d14",
     "locked": true,
     "schema_version": 1,
     "solution": false
    }
   },
   "source": [
    "## Outline\n",
    "1. Anonymous functions (aka lambda functions)\n",
    "2. Using higher-order functions to replace loops\n",
    "3. Reading inference rules\n"
   ]
  },
  {
   "cell_type": "markdown",
   "metadata": {
    "nbgrader": {
     "grade": false,
     "grade_id": "cell-b8df8cb319677f2a",
     "locked": true,
     "schema_version": 1,
     "solution": false
    }
   },
   "source": [
    "## Anonymous functions\n",
    "\n",
    "\n",
    "* Scala:  `(param1, param2) => expression`\n",
    "* Python: `lambda param1, param2: expression`\n",
    "* Java:   `(param1, param2) -> expression`\n",
    "* Math(lambda calculus): $\\lambda\\ p_1\\ p_2.\\ e$\n"
   ]
  },
  {
   "cell_type": "markdown",
   "metadata": {
    "nbgrader": {
     "grade": false,
     "grade_id": "cell-79c2a81c668fa9d0",
     "locked": true,
     "schema_version": 1,
     "solution": false
    }
   },
   "source": [
    "### Exercise: Anonymous functions\n",
    "Write anonymous functions that perform the requested operations. (Ok, we're putting them in variables, so they're not quite \"anonymous\")"
   ]
  },
  {
   "cell_type": "code",
   "execution_count": null,
   "metadata": {
    "nbgrader": {
     "grade": false,
     "grade_id": "cell-ac54b03388c07a84",
     "locked": false,
     "schema_version": 1,
     "solution": true
    }
   },
   "outputs": [],
   "source": [
    "// Returns true if input is 1, false otherwise\n",
    "val is_one: (Int) => Boolean = x => (x == 1)\n",
    "assert(is_one(1))\n",
    "assert(!is_one(2))\n",
    "\n",
    "// new: pattern matching\n",
    "// Returns true if input is 1, false otherwise *using patterrn matching*\n",
    "val is_one_pattern: (Int) => Boolean = {\n",
    "    case 1 => true\n",
    "    case _ => false\n",
    "}\n",
    "assert(is_one_pattern(1))\n",
    "assert(!is_one_pattern(2))\n",
    "\n",
    "// new: multi-parameter\n",
    "// Returns the addition of the inputs\n",
    "val add: (Int, Int) => Int = (x, y) => x + y\n",
    "assert(add(1, 2) == 3)\n",
    "\n",
    "// new: take funcs\n",
    "// Takes a function and applies it to 3\n",
    "val call_on_3: (Int => Int) => Int = f => f(3)\n",
    "assert(call_on_3(_ + 5) == 8)"
   ]
  },
  {
   "cell_type": "markdown",
   "metadata": {},
   "source": [
    "## Higher Order Functions\n",
    "\n",
    "\n"
   ]
  },
  {
   "cell_type": "markdown",
   "metadata": {},
   "source": [
    "### Exercise `last`\n",
    "\n",
    "Using `FoldLeft`, find the last element of a list. If the list is empty, use the default argument provided(See the third example)\n",
    "\n",
    "$\n",
    "\\texttt{last(List(2,4,5,7,9), 0)} \\mapsto \\texttt{9}\\\\\n",
    "\\texttt{last(\"scala is cool\", 'a')} \\mapsto \\texttt{'l'}\\\\\n",
    "\\texttt{last(\"\", 'a')} \\mapsto \\texttt{'a'}\n",
    "$\n"
   ]
  },
  {
   "cell_type": "code",
   "execution_count": 5,
   "metadata": {},
   "outputs": [
    {
     "data": {
      "text/plain": [
       "defined \u001b[32mfunction\u001b[39m \u001b[36mlast\u001b[39m"
      ]
     },
     "execution_count": 5,
     "metadata": {},
     "output_type": "execute_result"
    }
   ],
   "source": [
    "def last[A](l : List[A], default : A) : A = l.foldLeft(default)((_ : A, a1 : A) => a1)"
   ]
  },
  {
   "cell_type": "code",
   "execution_count": 19,
   "metadata": {},
   "outputs": [
    {
     "data": {
      "text/plain": [
       "\u001b[36mex1\u001b[39m: \u001b[32mList\u001b[39m[\u001b[32mInt\u001b[39m] = \u001b[33mList\u001b[39m(\u001b[32m2\u001b[39m, \u001b[32m4\u001b[39m, \u001b[32m5\u001b[39m, \u001b[32m7\u001b[39m, \u001b[32m9\u001b[39m)"
      ]
     },
     "execution_count": 19,
     "metadata": {},
     "output_type": "execute_result"
    }
   ],
   "source": [
    "val ex1 = List(2,4,5,7,9)\n",
    "assert(last(ex1, 0) == 9)"
   ]
  },
  {
   "cell_type": "code",
   "execution_count": 20,
   "metadata": {},
   "outputs": [
    {
     "data": {
      "text/plain": [
       "\u001b[36mex2\u001b[39m: \u001b[32mList\u001b[39m[\u001b[32mChar\u001b[39m] = \u001b[33mList\u001b[39m(\u001b[32m's'\u001b[39m, \u001b[32m'c'\u001b[39m, \u001b[32m'a'\u001b[39m, \u001b[32m'l'\u001b[39m, \u001b[32m'a'\u001b[39m, \u001b[32m' '\u001b[39m, \u001b[32m'i'\u001b[39m, \u001b[32m's'\u001b[39m, \u001b[32m' '\u001b[39m, \u001b[32m'c'\u001b[39m, \u001b[32m'o'\u001b[39m, \u001b[32m'o'\u001b[39m, \u001b[32m'l'\u001b[39m)"
      ]
     },
     "execution_count": 20,
     "metadata": {},
     "output_type": "execute_result"
    }
   ],
   "source": [
    "val ex2 = \"scala is cool\".toList\n",
    "assert(last(ex2, 'a') == 'l')"
   ]
  },
  {
   "cell_type": "code",
   "execution_count": 21,
   "metadata": {},
   "outputs": [
    {
     "data": {
      "text/plain": [
       "\u001b[36mex3\u001b[39m: \u001b[32mList\u001b[39m[\u001b[32mNothing\u001b[39m] = \u001b[33mList\u001b[39m()"
      ]
     },
     "execution_count": 21,
     "metadata": {},
     "output_type": "execute_result"
    }
   ],
   "source": [
    "val ex3 = List()\n",
    "assert(last(ex3, 'a') == 'a')"
   ]
  },
  {
   "cell_type": "markdown",
   "metadata": {},
   "source": [
    "### Exercise `len`\n",
    "\n",
    "Using `FoldLeft`, calculate the length of a list."
   ]
  },
  {
   "cell_type": "code",
   "execution_count": 23,
   "metadata": {},
   "outputs": [
    {
     "data": {
      "text/plain": [
       "defined \u001b[32mfunction\u001b[39m \u001b[36mlen\u001b[39m"
      ]
     },
     "execution_count": 23,
     "metadata": {},
     "output_type": "execute_result"
    }
   ],
   "source": [
    "def len[A](xs : List[A]) : Int = xs.foldLeft(0)((l : Int, _ : A) => l + 1 )"
   ]
  },
  {
   "cell_type": "code",
   "execution_count": 24,
   "metadata": {},
   "outputs": [
    {
     "data": {
      "text/plain": [
       "\u001b[36mex1\u001b[39m: \u001b[32mList\u001b[39m[\u001b[32mInt\u001b[39m] = \u001b[33mList\u001b[39m(\u001b[32m2\u001b[39m, \u001b[32m4\u001b[39m, \u001b[32m5\u001b[39m, \u001b[32m7\u001b[39m, \u001b[32m9\u001b[39m)"
      ]
     },
     "execution_count": 24,
     "metadata": {},
     "output_type": "execute_result"
    }
   ],
   "source": [
    "val ex1 = List(2,4,5,7,9)\n",
    "assert(len(ex1) == 5)"
   ]
  },
  {
   "cell_type": "code",
   "execution_count": 25,
   "metadata": {},
   "outputs": [
    {
     "data": {
      "text/plain": [
       "\u001b[36mex2\u001b[39m: \u001b[32mList\u001b[39m[\u001b[32mChar\u001b[39m] = \u001b[33mList\u001b[39m(\u001b[32m's'\u001b[39m, \u001b[32m'c'\u001b[39m, \u001b[32m'a'\u001b[39m, \u001b[32m'l'\u001b[39m, \u001b[32m'a'\u001b[39m, \u001b[32m' '\u001b[39m, \u001b[32m'i'\u001b[39m, \u001b[32m's'\u001b[39m, \u001b[32m' '\u001b[39m, \u001b[32m'c'\u001b[39m, \u001b[32m'o'\u001b[39m, \u001b[32m'o'\u001b[39m, \u001b[32m'l'\u001b[39m)"
      ]
     },
     "execution_count": 25,
     "metadata": {},
     "output_type": "execute_result"
    }
   ],
   "source": [
    "val ex2 = \"scala is cool\".toList\n",
    "assert(len(ex2) == 13)"
   ]
  },
  {
   "cell_type": "code",
   "execution_count": 26,
   "metadata": {},
   "outputs": [
    {
     "data": {
      "text/plain": [
       "\u001b[36mex3\u001b[39m: \u001b[32mList\u001b[39m[\u001b[32mNothing\u001b[39m] = \u001b[33mList\u001b[39m()"
      ]
     },
     "execution_count": 26,
     "metadata": {},
     "output_type": "execute_result"
    }
   ],
   "source": [
    "val ex3 = List()\n",
    "assert(len(ex3) == 0)"
   ]
  },
  {
   "cell_type": "markdown",
   "metadata": {},
   "source": [
    "### Exercise `remove`\n",
    "\n",
    "Using `filter` remove a given letter from a string.\n",
    "\n",
    "$\n",
    "\\texttt{remove(\"hello, world!\", 'o')} \\mapsto \\texttt{\"hell, wrld!\"}\\\\\n",
    "\\texttt{remove(\"aaaAAAaaAAaaH!\", 'a')} \\mapsto \\texttt{\"AAAAAH!\"}\n",
    "$"
   ]
  },
  {
   "cell_type": "code",
   "execution_count": 30,
   "metadata": {},
   "outputs": [
    {
     "data": {
      "text/plain": [
       "defined \u001b[32mfunction\u001b[39m \u001b[36mremove\u001b[39m"
      ]
     },
     "execution_count": 30,
     "metadata": {},
     "output_type": "execute_result"
    }
   ],
   "source": [
    "def remove(s : String, c : Char) : String = s.filter((x : Char) => x != c)"
   ]
  },
  {
   "cell_type": "code",
   "execution_count": 36,
   "metadata": {},
   "outputs": [
    {
     "name": "stdout",
     "output_type": "stream",
     "text": [
      "It Worked!"
     ]
    }
   ],
   "source": [
    "assert(remove(\"hello, world!\", 'o') == \"hell, wrld!\")\n",
    "print(\"It Worked!\")"
   ]
  },
  {
   "cell_type": "code",
   "execution_count": 35,
   "metadata": {},
   "outputs": [
    {
     "name": "stdout",
     "output_type": "stream",
     "text": [
      "It Worked!"
     ]
    }
   ],
   "source": [
    "assert(remove(\"aaaAAAaaAAaaH!\", 'a') == \"AAAAAH!\")\n",
    "print(\"It Worked!\")"
   ]
  },
  {
   "cell_type": "markdown",
   "metadata": {
    "nbgrader": {
     "grade": false,
     "grade_id": "cell-90a1c627f767f6d6",
     "locked": true,
     "schema_version": 1,
     "solution": false
    }
   },
   "source": [
    "## Inference Rules\n",
    "\n",
    "We write inference rules as follows:\n",
    "\n",
    "$ \\begin{array}{c}\n",
    "\\text{precondition_1},\\;\\;\\text{precondition_2},\\;\\; \\cdots \\\\\n",
    "\\hline\n",
    "\\text{result} \\\\\n",
    "\\end{array} \\textbf{(Name of the rule)} $"
   ]
  },
  {
   "cell_type": "markdown",
   "metadata": {},
   "source": [
    "### Exercise: Inference Rules for Collecting the Identifiers in an Expression\n",
    "\n",
    "Using the given rules below as inspiration, write down the rule to collect the identifiers of an expression. The general form for these rules is:\n",
    "\n",
    "\n",
    "$\n",
    "\\begin{array}{c}\n",
    "\\langle\\text{Premises}\\rangle\\\\\n",
    "\\hline\n",
    "\\langle \\text{Expression} \\rangle \\ni \\langle\\text{Set of Identifiers}\\rangle\\\\\n",
    "\\end{array} \\mathbf{(RuleName)} \n",
    "$\n",
    "\n",
    "We read this as: If the premises are met, then the expression contains these identifiers"
   ]
  },
  {
   "cell_type": "markdown",
   "metadata": {},
   "source": [
    "The rule for constants:\n",
    "\n",
    "$\n",
    "\\begin{array}{c}\n",
    "\\\\\n",
    "\\hline \n",
    "\\texttt{Const(f)} \\ni \\emptyset \\\\\n",
    "\\end{array} \\mathbf{(Constant)}\n",
    "$\n",
    "\n"
   ]
  },
  {
   "cell_type": "markdown",
   "metadata": {},
   "source": [
    "For addition, multiplication, and division:\n",
    "\n",
    "$\n",
    "\\begin{array}{ccc}\n",
    "\\begin{array}{c}\n",
    "e_1 \\ni l_1 \\quad e_2 \\ni l_2 \\\\\n",
    "\\hline \n",
    "\\texttt{Plus}(e_1, e_2) \\ni l_1 \\cup l_2 \\\\\n",
    "\\end{array} \\mathbf{(Plus)}\n",
    "&& \n",
    "\\begin{array}{c}\n",
    "e_1 \\ni l_1 \\quad e_2 \\ni l_2 \\\\\n",
    "\\hline \n",
    "\\texttt{Mult}(e_1, e_2) \\ni l_1 \\cup l_2 \\\\\n",
    "\\end{array} \\mathbf{(Mult)}\n",
    "&&\n",
    "\\begin{array}{c}\n",
    "e_1 \\ni l_1 \\quad e_2 \\ni l_2 \\\\\n",
    "\\hline \n",
    "\\texttt{Div}(e_1, e_2) \\ni l_1 \\cup l_2 \\\\\n",
    "\\end{array} \\mathbf{(Div)}\n",
    "\\end{array}\n",
    "$"
   ]
  },
  {
   "cell_type": "markdown",
   "metadata": {},
   "source": [
    "Now, write the rules for identifiers and exponentiation:\n",
    "\n",
    "// YOUR INFERENCE RULE HERE\n",
    "\n",
    "$\n",
    "\\begin{array}{cc}\n",
    "\\begin{array}{c}\n",
    "\\text{ }\\\\\n",
    "\\hline\n",
    "\\texttt{Ident}(x) \\ni \\{\\texttt{x}\\}\\\\\n",
    "\\end{array} \\mathbf{(Ident)} \n",
    "&&\n",
    " \\begin{array}{c}\n",
    "e \\ni l\\\\\n",
    "\\hline\n",
    "\\texttt{Exp}(e) \\ni l\\\\\n",
    "\\end{array} \\mathbf{(Exp)} \n",
    "\\end{array}$"
   ]
  },
  {
   "cell_type": "code",
   "execution_count": null,
   "metadata": {},
   "outputs": [],
   "source": []
  }
 ],
 "metadata": {
  "celltoolbar": "Create Assignment",
  "kernelspec": {
   "display_name": "Scala 2.13",
   "language": "scala",
   "name": "scala213"
  },
  "language_info": {
   "codemirror_mode": "text/x-scala",
   "file_extension": ".scala",
   "mimetype": "text/x-scala",
   "name": "scala",
   "nbconvert_exporter": "script",
   "version": "2.13.1"
  }
 },
 "nbformat": 4,
 "nbformat_minor": 4
}
